{
 "cells": [
  {
   "cell_type": "markdown",
   "metadata": {},
   "source": [
    "### Encoding de variables categóricas"
   ]
  },
  {
   "cell_type": "code",
   "execution_count": 12,
   "metadata": {},
   "outputs": [],
   "source": [
    "import numpy as np\n",
    "import pandas as pd\n",
    "# Gráficos\n",
    "# ------------------------------------------------------------------------------\n",
    "import matplotlib.pyplot as plt\n",
    "import seaborn as sns\n",
    "# Modelado y evaluación\n",
    "# ------------------------------------------------------------------------------\n",
    "from sklearn.impute import SimpleImputer\n",
    "from sklearn.model_selection import train_test_split\n",
    "from sklearn.linear_model import LogisticRegression\n",
    "from sklearn.ensemble import RandomForestClassifier\n",
    "from sklearn.tree import DecisionTreeClassifier\n",
    "from sklearn.preprocessing import LabelEncoder\n",
    "from sklearn.model_selection import cross_val_score\n",
    "from sklearn import tree\n",
    "from sklearn.metrics import classification_report, confusion_matrix, accuracy_score, precision_score, recall_score, f1_score, cohen_kappa_score\n",
    "from sklearn.preprocessing import RobustScaler\n",
    "from sklearn.preprocessing import OneHotEncoder\n",
    "from sklearn.model_selection import GridSearchCV\n",
    "# Configuración warnings\n",
    "# ------------------------------------------------------------------------------\n",
    "import warnings\n",
    "warnings.filterwarnings(\"ignore\")"
   ]
  },
  {
   "cell_type": "code",
   "execution_count": 13,
   "metadata": {},
   "outputs": [
    {
     "data": {
      "text/html": [
       "<div>\n",
       "<style scoped>\n",
       "    .dataframe tbody tr th:only-of-type {\n",
       "        vertical-align: middle;\n",
       "    }\n",
       "\n",
       "    .dataframe tbody tr th {\n",
       "        vertical-align: top;\n",
       "    }\n",
       "\n",
       "    .dataframe thead th {\n",
       "        text-align: right;\n",
       "    }\n",
       "</style>\n",
       "<table border=\"1\" class=\"dataframe\">\n",
       "  <thead>\n",
       "    <tr style=\"text-align: right;\">\n",
       "      <th></th>\n",
       "      <th>fecha</th>\n",
       "      <th>estacion</th>\n",
       "      <th>año</th>\n",
       "      <th>mes</th>\n",
       "      <th>festivo</th>\n",
       "      <th>dia</th>\n",
       "      <th>laborable</th>\n",
       "      <th>meteo</th>\n",
       "      <th>temperatura</th>\n",
       "      <th>humedad</th>\n",
       "      <th>velo_viento</th>\n",
       "      <th>usu_casuales</th>\n",
       "    </tr>\n",
       "  </thead>\n",
       "  <tbody>\n",
       "    <tr>\n",
       "      <th>0</th>\n",
       "      <td>2018-01-01</td>\n",
       "      <td>invierno</td>\n",
       "      <td>2018</td>\n",
       "      <td>ene</td>\n",
       "      <td>festivo</td>\n",
       "      <td>lun</td>\n",
       "      <td>no laborable</td>\n",
       "      <td>nublado</td>\n",
       "      <td>-0.486274</td>\n",
       "      <td>0.858854</td>\n",
       "      <td>-0.208909</td>\n",
       "      <td>331</td>\n",
       "    </tr>\n",
       "    <tr>\n",
       "      <th>1</th>\n",
       "      <td>2018-01-02</td>\n",
       "      <td>invierno</td>\n",
       "      <td>2018</td>\n",
       "      <td>ene</td>\n",
       "      <td>no festivo</td>\n",
       "      <td>mar</td>\n",
       "      <td>laborable</td>\n",
       "      <td>nublado</td>\n",
       "      <td>-0.425690</td>\n",
       "      <td>0.331548</td>\n",
       "      <td>0.687550</td>\n",
       "      <td>131</td>\n",
       "    </tr>\n",
       "  </tbody>\n",
       "</table>\n",
       "</div>"
      ],
      "text/plain": [
       "       fecha  estacion   año  mes     festivo  dia     laborable    meteo  \\\n",
       "0 2018-01-01  invierno  2018  ene     festivo  lun  no laborable  nublado   \n",
       "1 2018-01-02  invierno  2018  ene  no festivo  mar     laborable  nublado   \n",
       "\n",
       "   temperatura   humedad  velo_viento  usu_casuales  \n",
       "0    -0.486274  0.858854    -0.208909           331  \n",
       "1    -0.425690  0.331548     0.687550           131  "
      ]
     },
     "execution_count": 13,
     "metadata": {},
     "output_type": "execute_result"
    }
   ],
   "source": [
    "df = pd.read_pickle(\"../data/bikes_casuales_estand.pkl\")\n",
    "df.head(2)"
   ]
  },
  {
   "cell_type": "code",
   "execution_count": 14,
   "metadata": {},
   "outputs": [],
   "source": [
    "# Vamos a eliminar las variables categóricas \"estación\" y \"laborable\"  porque las creamos a partir del resto de variables predictoras y, \n",
    "# además, ya comprobamos en la visualización que tenían una relación muy alta con las otras VP. . Eliminamos también fecha porque tiene un valor por cada registro\n",
    "df.drop([\"laborable\", \"estacion\", \"fecha\"], axis = 1, inplace= True)"
   ]
  },
  {
   "cell_type": "markdown",
   "metadata": {},
   "source": [
    "Según vimos en \"visualización\", todas nuestras variables predictorias categóricas tienen orden, por lo que vamos a usar el \"map\" (para declarar nosotras mismas el orden de las variables):"
   ]
  },
  {
   "cell_type": "code",
   "execution_count": 15,
   "metadata": {},
   "outputs": [],
   "source": [
    "columnas = [\"mes\", \"festivo\", \"dia\", \"meteo\", \"año\"]\n",
    "\n",
    "mes = {\"ene\": 0, \n",
    "       \"feb\": 0, \n",
    "       \"mar\": 2, \n",
    "       \"abr\": 3, \n",
    "       \"may\": 3, \n",
    "       \"jun\": 4, \n",
    "       \"jul\": 5, \n",
    "       \"ago\": 5, \n",
    "       \"sep\": 4,\n",
    "       \"oct\": 3, \n",
    "       \"nov\": 2, \n",
    "       \"dic\": 1}\n",
    "\n",
    "festivo = {\"festivo\": 1, \"no festivo\": 0}\n",
    "\n",
    "dia = {\"lun\": 3, \n",
    "       \"mar\": 2, \n",
    "       \"mie\": 1, \n",
    "       \"jue\": 1, \n",
    "       \"vie\": 0, \n",
    "       \"sab\": 1, \n",
    "       \"dom\": 2}\n",
    "\n",
    "meteo = {\"nublado\": 1, \n",
    "         \"buen tiempo\": 2, \n",
    "         \"ligeramente mal tiempo\": 0}\n",
    "\n",
    "año = {2018: 0,\n",
    "       2019: 1}"
   ]
  },
  {
   "cell_type": "code",
   "execution_count": 16,
   "metadata": {},
   "outputs": [],
   "source": [
    "columnas = [\"mes\", \"festivo\", \"dia\", \"meteo\", \"año\"]\n",
    "mapas = [mes, festivo, dia, meteo, año]\n",
    "for mapa, col in zip(mapas, columnas):\n",
    "    df[col] = df[col].map(mapa)"
   ]
  },
  {
   "cell_type": "code",
   "execution_count": 17,
   "metadata": {},
   "outputs": [
    {
     "data": {
      "text/html": [
       "<div>\n",
       "<style scoped>\n",
       "    .dataframe tbody tr th:only-of-type {\n",
       "        vertical-align: middle;\n",
       "    }\n",
       "\n",
       "    .dataframe tbody tr th {\n",
       "        vertical-align: top;\n",
       "    }\n",
       "\n",
       "    .dataframe thead th {\n",
       "        text-align: right;\n",
       "    }\n",
       "</style>\n",
       "<table border=\"1\" class=\"dataframe\">\n",
       "  <thead>\n",
       "    <tr style=\"text-align: right;\">\n",
       "      <th></th>\n",
       "      <th>año</th>\n",
       "      <th>mes</th>\n",
       "      <th>festivo</th>\n",
       "      <th>dia</th>\n",
       "      <th>meteo</th>\n",
       "      <th>temperatura</th>\n",
       "      <th>humedad</th>\n",
       "      <th>velo_viento</th>\n",
       "      <th>usu_casuales</th>\n",
       "    </tr>\n",
       "  </thead>\n",
       "  <tbody>\n",
       "    <tr>\n",
       "      <th>265</th>\n",
       "      <td>0</td>\n",
       "      <td>4</td>\n",
       "      <td>0</td>\n",
       "      <td>2</td>\n",
       "      <td>1</td>\n",
       "      <td>0.345100</td>\n",
       "      <td>1.659655</td>\n",
       "      <td>-1.044171</td>\n",
       "      <td>258</td>\n",
       "    </tr>\n",
       "    <tr>\n",
       "      <th>491</th>\n",
       "      <td>1</td>\n",
       "      <td>3</td>\n",
       "      <td>0</td>\n",
       "      <td>2</td>\n",
       "      <td>1</td>\n",
       "      <td>0.120262</td>\n",
       "      <td>0.178179</td>\n",
       "      <td>0.506229</td>\n",
       "      <td>1008</td>\n",
       "    </tr>\n",
       "  </tbody>\n",
       "</table>\n",
       "</div>"
      ],
      "text/plain": [
       "    año  mes  festivo  dia  meteo  temperatura   humedad  velo_viento  \\\n",
       "265   0    4        0    2      1     0.345100  1.659655    -1.044171   \n",
       "491   1    3        0    2      1     0.120262  0.178179     0.506229   \n",
       "\n",
       "     usu_casuales  \n",
       "265           258  \n",
       "491          1008  "
      ]
     },
     "execution_count": 17,
     "metadata": {},
     "output_type": "execute_result"
    }
   ],
   "source": [
    "df.sample(2)"
   ]
  },
  {
   "cell_type": "code",
   "execution_count": 18,
   "metadata": {},
   "outputs": [],
   "source": [
    "df.to_pickle(\"../data/bikes_casuales_estand_encod.pkl\")"
   ]
  },
  {
   "cell_type": "markdown",
   "metadata": {},
   "source": [
    "Vamos a probar a guardar también un modelo con encoding y sin estandarizar:"
   ]
  },
  {
   "cell_type": "code",
   "execution_count": 19,
   "metadata": {},
   "outputs": [
    {
     "data": {
      "text/html": [
       "<div>\n",
       "<style scoped>\n",
       "    .dataframe tbody tr th:only-of-type {\n",
       "        vertical-align: middle;\n",
       "    }\n",
       "\n",
       "    .dataframe tbody tr th {\n",
       "        vertical-align: top;\n",
       "    }\n",
       "\n",
       "    .dataframe thead th {\n",
       "        text-align: right;\n",
       "    }\n",
       "</style>\n",
       "<table border=\"1\" class=\"dataframe\">\n",
       "  <thead>\n",
       "    <tr style=\"text-align: right;\">\n",
       "      <th></th>\n",
       "      <th>fecha</th>\n",
       "      <th>estacion</th>\n",
       "      <th>año</th>\n",
       "      <th>mes</th>\n",
       "      <th>festivo</th>\n",
       "      <th>dia</th>\n",
       "      <th>laborable</th>\n",
       "      <th>meteo</th>\n",
       "      <th>temperatura</th>\n",
       "      <th>sensacion_termica</th>\n",
       "      <th>humedad</th>\n",
       "      <th>velo_viento</th>\n",
       "      <th>usu_casuales</th>\n",
       "      <th>usu_registrados</th>\n",
       "    </tr>\n",
       "  </thead>\n",
       "  <tbody>\n",
       "    <tr>\n",
       "      <th>0</th>\n",
       "      <td>2018-01-01</td>\n",
       "      <td>invierno</td>\n",
       "      <td>2018</td>\n",
       "      <td>ene</td>\n",
       "      <td>festivo</td>\n",
       "      <td>lun</td>\n",
       "      <td>no laborable</td>\n",
       "      <td>nublado</td>\n",
       "      <td>14.110847</td>\n",
       "      <td>18.18125</td>\n",
       "      <td>80.5833</td>\n",
       "      <td>10.749882</td>\n",
       "      <td>331</td>\n",
       "      <td>654</td>\n",
       "    </tr>\n",
       "    <tr>\n",
       "      <th>1</th>\n",
       "      <td>2018-01-02</td>\n",
       "      <td>invierno</td>\n",
       "      <td>2018</td>\n",
       "      <td>ene</td>\n",
       "      <td>no festivo</td>\n",
       "      <td>mar</td>\n",
       "      <td>laborable</td>\n",
       "      <td>nublado</td>\n",
       "      <td>14.902598</td>\n",
       "      <td>17.68695</td>\n",
       "      <td>69.6087</td>\n",
       "      <td>16.652113</td>\n",
       "      <td>131</td>\n",
       "      <td>670</td>\n",
       "    </tr>\n",
       "  </tbody>\n",
       "</table>\n",
       "</div>"
      ],
      "text/plain": [
       "       fecha  estacion   año  mes     festivo  dia     laborable    meteo  \\\n",
       "0 2018-01-01  invierno  2018  ene     festivo  lun  no laborable  nublado   \n",
       "1 2018-01-02  invierno  2018  ene  no festivo  mar     laborable  nublado   \n",
       "\n",
       "   temperatura  sensacion_termica  humedad  velo_viento  usu_casuales  \\\n",
       "0    14.110847           18.18125  80.5833    10.749882           331   \n",
       "1    14.902598           17.68695  69.6087    16.652113           131   \n",
       "\n",
       "   usu_registrados  \n",
       "0              654  \n",
       "1              670  "
      ]
     },
     "execution_count": 19,
     "metadata": {},
     "output_type": "execute_result"
    }
   ],
   "source": [
    "df2 = pd.read_pickle(\"../data/bikes_limpieza_sin_totales.pkl\")\n",
    "df2.head(2)"
   ]
  },
  {
   "cell_type": "code",
   "execution_count": 20,
   "metadata": {},
   "outputs": [],
   "source": [
    "# Vamos a eliminar las variables categóricas \"estación\" y \"laborable\"  porque las creamos a partir del resto de variables predictoras y, además, ya comprobamos en la visualización que tenían una relación muy alta con las otras VP.\n",
    "df2.drop([\"laborable\", \"estacion\", \"usu_registrados\"], axis = 1, inplace= True)"
   ]
  },
  {
   "cell_type": "code",
   "execution_count": 21,
   "metadata": {},
   "outputs": [
    {
     "data": {
      "text/html": [
       "<div>\n",
       "<style scoped>\n",
       "    .dataframe tbody tr th:only-of-type {\n",
       "        vertical-align: middle;\n",
       "    }\n",
       "\n",
       "    .dataframe tbody tr th {\n",
       "        vertical-align: top;\n",
       "    }\n",
       "\n",
       "    .dataframe thead th {\n",
       "        text-align: right;\n",
       "    }\n",
       "</style>\n",
       "<table border=\"1\" class=\"dataframe\">\n",
       "  <thead>\n",
       "    <tr style=\"text-align: right;\">\n",
       "      <th></th>\n",
       "      <th>fecha</th>\n",
       "      <th>año</th>\n",
       "      <th>mes</th>\n",
       "      <th>festivo</th>\n",
       "      <th>dia</th>\n",
       "      <th>meteo</th>\n",
       "      <th>temperatura</th>\n",
       "      <th>sensacion_termica</th>\n",
       "      <th>humedad</th>\n",
       "      <th>velo_viento</th>\n",
       "      <th>usu_casuales</th>\n",
       "    </tr>\n",
       "  </thead>\n",
       "  <tbody>\n",
       "    <tr>\n",
       "      <th>546</th>\n",
       "      <td>2019-07-01</td>\n",
       "      <td>1</td>\n",
       "      <td>5</td>\n",
       "      <td>0</td>\n",
       "      <td>3</td>\n",
       "      <td>2</td>\n",
       "      <td>33.449153</td>\n",
       "      <td>37.53145</td>\n",
       "      <td>51.8750</td>\n",
       "      <td>11.291443</td>\n",
       "      <td>1421</td>\n",
       "    </tr>\n",
       "    <tr>\n",
       "      <th>117</th>\n",
       "      <td>2018-04-28</td>\n",
       "      <td>0</td>\n",
       "      <td>3</td>\n",
       "      <td>0</td>\n",
       "      <td>1</td>\n",
       "      <td>1</td>\n",
       "      <td>25.317500</td>\n",
       "      <td>28.94645</td>\n",
       "      <td>70.0833</td>\n",
       "      <td>21.500836</td>\n",
       "      <td>569</td>\n",
       "    </tr>\n",
       "  </tbody>\n",
       "</table>\n",
       "</div>"
      ],
      "text/plain": [
       "         fecha año  mes  festivo  dia  meteo  temperatura  sensacion_termica  \\\n",
       "546 2019-07-01   1    5        0    3      2    33.449153           37.53145   \n",
       "117 2018-04-28   0    3        0    1      1    25.317500           28.94645   \n",
       "\n",
       "     humedad  velo_viento  usu_casuales  \n",
       "546  51.8750    11.291443          1421  \n",
       "117  70.0833    21.500836           569  "
      ]
     },
     "execution_count": 21,
     "metadata": {},
     "output_type": "execute_result"
    }
   ],
   "source": [
    "for mapa, col in zip(mapas, columnas):\n",
    "    df2[col] = df2[col].map(mapa)\n",
    "\n",
    "df2.sample(2)"
   ]
  },
  {
   "cell_type": "code",
   "execution_count": 22,
   "metadata": {},
   "outputs": [],
   "source": [
    "df.to_pickle(\"../data/bikes_casuales_encod_sin_estand.pkl\")"
   ]
  }
 ],
 "metadata": {
  "kernelspec": {
   "display_name": "adalabenv",
   "language": "python",
   "name": "python3"
  },
  "language_info": {
   "codemirror_mode": {
    "name": "ipython",
    "version": 3
   },
   "file_extension": ".py",
   "mimetype": "text/x-python",
   "name": "python",
   "nbconvert_exporter": "python",
   "pygments_lexer": "ipython3",
   "version": "3.10.11"
  },
  "orig_nbformat": 4
 },
 "nbformat": 4,
 "nbformat_minor": 2
}
